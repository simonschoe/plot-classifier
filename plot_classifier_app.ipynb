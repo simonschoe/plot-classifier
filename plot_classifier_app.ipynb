{
 "cells": [
  {
   "cell_type": "code",
   "execution_count": 1,
   "metadata": {},
   "outputs": [],
   "source": [
    "from fastai.vision.all import *\n",
    "from fastai.vision.widgets import PILImage\n",
    "from ipywidgets import widgets, VBox"
   ]
  },
  {
   "cell_type": "code",
   "execution_count": 7,
   "metadata": {},
   "outputs": [],
   "source": [
    "# deploy model within notebook\n",
    "path = Path('model')\n",
    "inf_cls = load_learner(f'{path}/plot_cls.pkl')"
   ]
  },
  {
   "cell_type": "code",
   "execution_count": 10,
   "metadata": {},
   "outputs": [],
   "source": [
    "# upload button\n",
    "upl_wid = widgets.FileUpload()\n",
    "\n",
    "# output field\n",
    "out_wid = widgets.Output()\n",
    "\n",
    "# label field\n",
    "lbl_wid = widgets.Label(value = '')\n",
    "\n",
    "# classify button\n",
    "cls_button = widgets.Button(description='Classify Plot')\n",
    "\n",
    "def infer_label(change):\n",
    "    img = PILImage.create(upl_wid.data[0])\n",
    "    out_wid.clear_output()\n",
    "    with out_wid:\n",
    "        display(img.to_thumb(224, 224))\n",
    "        \n",
    "    # output: predicted category, category index, class probabilities\n",
    "    # category order: inf_cls.dls.vocab\n",
    "    pred_class, pred_id, pred_probs = inf_cls.predict(img) \n",
    "    \n",
    "    lbl_wid.value = f'Prediction: {pred_class}, Probability: {pred_probs[pred_id]:.04f}'\n",
    "        \n",
    "cls_button.on_click(infer_label)"
   ]
  },
  {
   "cell_type": "code",
   "execution_count": 11,
   "metadata": {},
   "outputs": [
    {
     "data": {
      "application/vnd.jupyter.widget-view+json": {
       "model_id": "d5abf42b98724d7ba3947e0315d6f372",
       "version_major": 2,
       "version_minor": 0
      },
      "text/plain": [
       "VBox(children=(Label(value='Upload your Plot!'), FileUpload(value={}, description='Upload'), Output(), Label(v…"
      ]
     },
     "metadata": {},
     "output_type": "display_data"
    }
   ],
   "source": [
    "VBox(\n",
    "    [widgets.Label('Upload your Plot!'), \n",
    "    upl_wid, out_wid, lbl_wid, cls_button]\n",
    ")"
   ]
  }
 ],
 "metadata": {
  "kernelspec": {
   "display_name": "Python 3",
   "language": "python",
   "name": "python3"
  },
  "language_info": {
   "codemirror_mode": {
    "name": "ipython",
    "version": 3
   },
   "file_extension": ".py",
   "mimetype": "text/x-python",
   "name": "python",
   "nbconvert_exporter": "python",
   "pygments_lexer": "ipython3",
   "version": "3.8.6"
  }
 },
 "nbformat": 4,
 "nbformat_minor": 4
}
